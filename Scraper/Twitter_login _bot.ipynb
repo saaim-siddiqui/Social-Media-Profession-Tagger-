{
 "cells": [
  {
   "cell_type": "markdown",
   "metadata": {
    "toc": true
   },
   "source": [
    "<h1>Table of Contents<span class=\"tocSkip\"></span></h1>\n",
    "<div class=\"toc\"><ul class=\"toc-item\"></ul></div>"
   ]
  },
  {
   "cell_type": "code",
   "execution_count": 3,
   "metadata": {},
   "outputs": [],
   "source": [
    "import csv\n",
    "from getpass import getpass\n",
    "from time import sleep\n",
    "from selenium import webdriver\n",
    "from selenium.webdriver.common.keys import Keys\n",
    "from selenium.common.exceptions import NoSuchElementException"
   ]
  },
  {
   "cell_type": "code",
   "execution_count": 7,
   "metadata": {},
   "outputs": [
    {
     "name": "stderr",
     "output_type": "stream",
     "text": [
      "<ipython-input-7-ee335aa521bf>:8: DeprecationWarning: executable_path has been deprecated, please pass in a Service object\n",
      "  browser = webdriver.Chrome(chrome_options=options, executable_path=r'/mnt/sda6/Univerisity/Semester 7/Final Year project/Scraper/chromedriver_linux64/chromedriver')\n",
      "<ipython-input-7-ee335aa521bf>:8: DeprecationWarning: use options instead of chrome_options\n",
      "  browser = webdriver.Chrome(chrome_options=options, executable_path=r'/mnt/sda6/Univerisity/Semester 7/Final Year project/Scraper/chromedriver_linux64/chromedriver')\n"
     ]
    }
   ],
   "source": [
    "from selenium import webdriver\n",
    "from selenium.webdriver.chrome.options import Options\n",
    "\n",
    "options = Options()\n",
    "# options.add_argument(\"start-maximized\")\n",
    "options.add_argument('headless')\n",
    "\n",
    "browser = webdriver.Chrome(chrome_options=options, executable_path=r'/mnt/sda6/Univerisity/Semester 7/Final Year project/Scraper/chromedriver_linux64/chromedriver')\n",
    "\n",
    "# opts=webdriver.ChromeOptions()\n",
    "# opts.headless=True\n"
   ]
  },
  {
   "cell_type": "code",
   "execution_count": 5,
   "metadata": {},
   "outputs": [],
   "source": [
    "browser.get('https://www.twitter.com/login')"
   ]
  },
  {
   "cell_type": "code",
   "execution_count": 4,
   "metadata": {},
   "outputs": [
    {
     "name": "stderr",
     "output_type": "stream",
     "text": [
      "<ipython-input-4-c2a067b5553f>:1: DeprecationWarning: find_element_by_* commands are deprecated. Please use find_element() instead\n",
      "  username = browser.find_element_by_xpath('//input[@name=\"text\"]')\n"
     ]
    }
   ],
   "source": [
    "username = browser.find_element_by_xpath('//input[@name=\"text\"]')\n",
    "username.send_keys('SuicidalPastaa')\n",
    "username.send_keys(Keys.RETURN)"
   ]
  },
  {
   "cell_type": "code",
   "execution_count": 30,
   "metadata": {},
   "outputs": [],
   "source": [
    "# name = browser.find_element_by_xpath('//input[@name=\"text\"]')\n",
    "# name.send_keys('MirzaAbdulAzi11')\n",
    "# name.send_keys(Keys.RETURN)"
   ]
  },
  {
   "cell_type": "code",
   "execution_count": 5,
   "metadata": {},
   "outputs": [],
   "source": [
    "my_password = 'ybn9jdoors'"
   ]
  },
  {
   "cell_type": "code",
   "execution_count": 6,
   "metadata": {},
   "outputs": [
    {
     "name": "stderr",
     "output_type": "stream",
     "text": [
      "<ipython-input-6-a1233131a063>:1: DeprecationWarning: find_element_by_* commands are deprecated. Please use find_element() instead\n",
      "  password = browser.find_element_by_xpath('//input[@name=\"password\"]')\n"
     ]
    }
   ],
   "source": [
    "password = browser.find_element_by_xpath('//input[@name=\"password\"]')\n",
    "password.send_keys(my_password)\n",
    "password.send_keys(Keys.RETURN)"
   ]
  },
  {
   "cell_type": "code",
   "execution_count": 7,
   "metadata": {},
   "outputs": [
    {
     "name": "stderr",
     "output_type": "stream",
     "text": [
      "<ipython-input-7-fe653b8d3ba5>:1: DeprecationWarning: find_element_by_* commands are deprecated. Please use find_element() instead\n",
      "  search = browser.find_element_by_xpath('//input[@aria-label=\"Search query\"]')\n"
     ]
    }
   ],
   "source": [
    "search = browser.find_element_by_xpath('//input[@aria-label=\"Search query\"]')\n",
    "category = 'cricketer'\n",
    "search.send_keys('{} \"filter:verified\"'.format(category))\n",
    "search.send_keys(Keys.RETURN)"
   ]
  },
  {
   "cell_type": "code",
   "execution_count": 8,
   "metadata": {},
   "outputs": [
    {
     "name": "stderr",
     "output_type": "stream",
     "text": [
      "<ipython-input-8-a0585b8a6da9>:1: DeprecationWarning: find_element_by_* commands are deprecated. Please use find_element() instead\n",
      "  browser.find_element_by_link_text('People').click()\n"
     ]
    }
   ],
   "source": [
    "browser.find_element_by_link_text('People').click()"
   ]
  },
  {
   "cell_type": "code",
   "execution_count": 9,
   "metadata": {},
   "outputs": [
    {
     "name": "stderr",
     "output_type": "stream",
     "text": [
      "<ipython-input-9-0d77a5248846>:4: DeprecationWarning: find_elements_by_* commands are deprecated. Please use find_elements() instead\n",
      "  users = browser.find_elements_by_xpath('//div[@data-testid=\"UserCell\"]')\n",
      "/home/saaim/.local/lib/python3.8/site-packages/selenium/webdriver/remote/webelement.py:393: UserWarning: find_element_by_* commands are deprecated. Please use find_element() instead\n",
      "  warnings.warn(\"find_element_by_* commands are deprecated. Please use find_element() instead\")\n"
     ]
    },
    {
     "data": {
      "text/plain": [
       "259"
      ]
     },
     "execution_count": 9,
     "metadata": {},
     "output_type": "execute_result"
    }
   ],
   "source": [
    "twitter_handles = []\n",
    "i = 0\n",
    "while i<8:\n",
    "    users = browser.find_elements_by_xpath('//div[@data-testid=\"UserCell\"]')\n",
    "    for user in users:\n",
    "        userHandle = user.find_element_by_xpath('.//span[contains(text(), \"@\")]').text\n",
    "        twitter_handles.append(userHandle)\n",
    "    browser.execute_script('window.scrollTo(0, document.body.scrollHeight);')\n",
    "    sleep(2)\n",
    "    i = i + 1\n",
    "len(twitter_handles)\n"
   ]
  },
  {
   "cell_type": "code",
   "execution_count": 74,
   "metadata": {},
   "outputs": [],
   "source": [
    "import pandas as pd\n",
    "dict = {'Sports': twitter_handles}\n",
    "df = pd.DataFrame(dict) \n",
    "df.to_csv(\"sports.csv\", index=False)"
   ]
  },
  {
   "cell_type": "code",
   "execution_count": 66,
   "metadata": {},
   "outputs": [],
   "source": [
    "test_df = pd.read_csv(\"social.csv\", skipinitialspace=True)\n",
    "test_df.dropna(inplace= True)\n",
    "\n",
    "test_df.to_csv(\"social.csv\")\n",
    "\n"
   ]
  },
  {
   "cell_type": "code",
   "execution_count": null,
   "metadata": {},
   "outputs": [],
   "source": []
  }
 ],
 "metadata": {
  "kernelspec": {
   "display_name": "Python 3",
   "language": "python",
   "name": "python3"
  },
  "language_info": {
   "codemirror_mode": {
    "name": "ipython",
    "version": 3
   },
   "file_extension": ".py",
   "mimetype": "text/x-python",
   "name": "python",
   "nbconvert_exporter": "python",
   "pygments_lexer": "ipython3",
   "version": "3.8.5"
  },
  "toc": {
   "base_numbering": 1,
   "nav_menu": {},
   "number_sections": true,
   "sideBar": true,
   "skip_h1_title": false,
   "title_cell": "Table of Contents",
   "title_sidebar": "Contents",
   "toc_cell": true,
   "toc_position": {},
   "toc_section_display": true,
   "toc_window_display": false
  }
 },
 "nbformat": 4,
 "nbformat_minor": 4
}
