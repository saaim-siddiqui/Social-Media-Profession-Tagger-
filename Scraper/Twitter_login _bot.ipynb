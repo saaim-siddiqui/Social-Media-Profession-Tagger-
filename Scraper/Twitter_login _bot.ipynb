{
 "cells": [
  {
   "cell_type": "markdown",
   "metadata": {
    "toc": true
   },
   "source": [
    "<h1>Table of Contents<span class=\"tocSkip\"></span></h1>\n",
    "<div class=\"toc\"><ul class=\"toc-item\"></ul></div>"
   ]
  },
  {
   "cell_type": "code",
   "execution_count": 2,
   "metadata": {},
   "outputs": [],
   "source": [
    "import csv\n",
    "from getpass import getpass\n",
    "from time import sleep\n",
    "from selenium import webdriver\n",
    "from selenium.webdriver.common.keys import Keys\n",
    "from selenium.common.exceptions import NoSuchElementException"
   ]
  },
  {
   "cell_type": "code",
   "execution_count": 4,
   "metadata": {},
   "outputs": [
    {
     "name": "stderr",
     "output_type": "stream",
     "text": [
      "<ipython-input-4-6c2e0b94331e>:8: DeprecationWarning: executable_path has been deprecated, please pass in a Service object\n",
      "  browser = webdriver.Chrome(chrome_options=options, executable_path=r'/mnt/sda6/Univerisity/Semester 7/Final Year project/CODE/Scraper/chromedriver_linux64/chromedriver')\n",
      "<ipython-input-4-6c2e0b94331e>:8: DeprecationWarning: use options instead of chrome_options\n",
      "  browser = webdriver.Chrome(chrome_options=options, executable_path=r'/mnt/sda6/Univerisity/Semester 7/Final Year project/CODE/Scraper/chromedriver_linux64/chromedriver')\n"
     ]
    }
   ],
   "source": [
    "from selenium import webdriver\n",
    "from selenium.webdriver.chrome.options import Options\n",
    "\n",
    "options = Options()\n",
    "options.add_argument(\"start-maximized\")\n",
    "# options.add_argument('headless')\n",
    "\n",
    "browser = webdriver.Chrome(chrome_options=options, executable_path=r'/mnt/sda6/Univerisity/Semester 7/Final Year project/CODE/Scraper/chromedriver_linux64/chromedriver')\n",
    "\n",
    "opts=webdriver.ChromeOptions()\n",
    "opts.headless=True\n"
   ]
  },
  {
   "cell_type": "code",
   "execution_count": 5,
   "metadata": {},
   "outputs": [
    {
     "ename": "WebDriverException",
     "evalue": "Message: 'chromedriver' executable may have wrong permissions. Please see https://chromedriver.chromium.org/home\n",
     "output_type": "error",
     "traceback": [
      "\u001b[0;31m---------------------------------------------------------------------------\u001b[0m",
      "\u001b[0;31mPermissionError\u001b[0m                           Traceback (most recent call last)",
      "File \u001b[0;32m~/.local/lib/python3.8/site-packages/selenium/webdriver/common/service.py:71\u001b[0m, in \u001b[0;36mService.start\u001b[0;34m(self)\u001b[0m\n\u001b[1;32m     <a href='file:///home/abdulaziz/.local/lib/python3.8/site-packages/selenium/webdriver/common/service.py?line=69'>70</a>\u001b[0m     cmd\u001b[39m.\u001b[39mextend(\u001b[39mself\u001b[39m\u001b[39m.\u001b[39mcommand_line_args())\n\u001b[0;32m---> <a href='file:///home/abdulaziz/.local/lib/python3.8/site-packages/selenium/webdriver/common/service.py?line=70'>71</a>\u001b[0m     \u001b[39mself\u001b[39m\u001b[39m.\u001b[39mprocess \u001b[39m=\u001b[39m subprocess\u001b[39m.\u001b[39;49mPopen(cmd, env\u001b[39m=\u001b[39;49m\u001b[39mself\u001b[39;49m\u001b[39m.\u001b[39;49menv,\n\u001b[1;32m     <a href='file:///home/abdulaziz/.local/lib/python3.8/site-packages/selenium/webdriver/common/service.py?line=71'>72</a>\u001b[0m                                     close_fds\u001b[39m=\u001b[39;49msystem() \u001b[39m!=\u001b[39;49m \u001b[39m'\u001b[39;49m\u001b[39mWindows\u001b[39;49m\u001b[39m'\u001b[39;49m,\n\u001b[1;32m     <a href='file:///home/abdulaziz/.local/lib/python3.8/site-packages/selenium/webdriver/common/service.py?line=72'>73</a>\u001b[0m                                     stdout\u001b[39m=\u001b[39;49m\u001b[39mself\u001b[39;49m\u001b[39m.\u001b[39;49mlog_file,\n\u001b[1;32m     <a href='file:///home/abdulaziz/.local/lib/python3.8/site-packages/selenium/webdriver/common/service.py?line=73'>74</a>\u001b[0m                                     stderr\u001b[39m=\u001b[39;49m\u001b[39mself\u001b[39;49m\u001b[39m.\u001b[39;49mlog_file,\n\u001b[1;32m     <a href='file:///home/abdulaziz/.local/lib/python3.8/site-packages/selenium/webdriver/common/service.py?line=74'>75</a>\u001b[0m                                     stdin\u001b[39m=\u001b[39;49mPIPE,\n\u001b[1;32m     <a href='file:///home/abdulaziz/.local/lib/python3.8/site-packages/selenium/webdriver/common/service.py?line=75'>76</a>\u001b[0m                                     creationflags\u001b[39m=\u001b[39;49m\u001b[39mself\u001b[39;49m\u001b[39m.\u001b[39;49mcreationflags)\n\u001b[1;32m     <a href='file:///home/abdulaziz/.local/lib/python3.8/site-packages/selenium/webdriver/common/service.py?line=76'>77</a>\u001b[0m \u001b[39mexcept\u001b[39;00m \u001b[39mTypeError\u001b[39;00m:\n",
      "File \u001b[0;32m/usr/lib/python3.8/subprocess.py:858\u001b[0m, in \u001b[0;36mPopen.__init__\u001b[0;34m(self, args, bufsize, executable, stdin, stdout, stderr, preexec_fn, close_fds, shell, cwd, env, universal_newlines, startupinfo, creationflags, restore_signals, start_new_session, pass_fds, encoding, errors, text)\u001b[0m\n\u001b[1;32m    <a href='file:///usr/lib/python3.8/subprocess.py?line=854'>855</a>\u001b[0m             \u001b[39mself\u001b[39m\u001b[39m.\u001b[39mstderr \u001b[39m=\u001b[39m io\u001b[39m.\u001b[39mTextIOWrapper(\u001b[39mself\u001b[39m\u001b[39m.\u001b[39mstderr,\n\u001b[1;32m    <a href='file:///usr/lib/python3.8/subprocess.py?line=855'>856</a>\u001b[0m                     encoding\u001b[39m=\u001b[39mencoding, errors\u001b[39m=\u001b[39merrors)\n\u001b[0;32m--> <a href='file:///usr/lib/python3.8/subprocess.py?line=857'>858</a>\u001b[0m     \u001b[39mself\u001b[39;49m\u001b[39m.\u001b[39;49m_execute_child(args, executable, preexec_fn, close_fds,\n\u001b[1;32m    <a href='file:///usr/lib/python3.8/subprocess.py?line=858'>859</a>\u001b[0m                         pass_fds, cwd, env,\n\u001b[1;32m    <a href='file:///usr/lib/python3.8/subprocess.py?line=859'>860</a>\u001b[0m                         startupinfo, creationflags, shell,\n\u001b[1;32m    <a href='file:///usr/lib/python3.8/subprocess.py?line=860'>861</a>\u001b[0m                         p2cread, p2cwrite,\n\u001b[1;32m    <a href='file:///usr/lib/python3.8/subprocess.py?line=861'>862</a>\u001b[0m                         c2pread, c2pwrite,\n\u001b[1;32m    <a href='file:///usr/lib/python3.8/subprocess.py?line=862'>863</a>\u001b[0m                         errread, errwrite,\n\u001b[1;32m    <a href='file:///usr/lib/python3.8/subprocess.py?line=863'>864</a>\u001b[0m                         restore_signals, start_new_session)\n\u001b[1;32m    <a href='file:///usr/lib/python3.8/subprocess.py?line=864'>865</a>\u001b[0m \u001b[39mexcept\u001b[39;00m:\n\u001b[1;32m    <a href='file:///usr/lib/python3.8/subprocess.py?line=865'>866</a>\u001b[0m     \u001b[39m# Cleanup if the child failed starting.\u001b[39;00m\n",
      "File \u001b[0;32m/usr/lib/python3.8/subprocess.py:1704\u001b[0m, in \u001b[0;36mPopen._execute_child\u001b[0;34m(self, args, executable, preexec_fn, close_fds, pass_fds, cwd, env, startupinfo, creationflags, shell, p2cread, p2cwrite, c2pread, c2pwrite, errread, errwrite, restore_signals, start_new_session)\u001b[0m\n\u001b[1;32m   <a href='file:///usr/lib/python3.8/subprocess.py?line=1702'>1703</a>\u001b[0m         err_msg \u001b[39m=\u001b[39m os\u001b[39m.\u001b[39mstrerror(errno_num)\n\u001b[0;32m-> <a href='file:///usr/lib/python3.8/subprocess.py?line=1703'>1704</a>\u001b[0m     \u001b[39mraise\u001b[39;00m child_exception_type(errno_num, err_msg, err_filename)\n\u001b[1;32m   <a href='file:///usr/lib/python3.8/subprocess.py?line=1704'>1705</a>\u001b[0m \u001b[39mraise\u001b[39;00m child_exception_type(err_msg)\n",
      "\u001b[0;31mPermissionError\u001b[0m: [Errno 13] Permission denied: '/home/abdulaziz/FYP/Scraper/chromedriver_linux64/chromedriver'",
      "\nDuring handling of the above exception, another exception occurred:\n",
      "\u001b[0;31mWebDriverException\u001b[0m                        Traceback (most recent call last)",
      "\u001b[1;32m/home/abdulaziz/FYP/Scraper/Twitter_login _bot.ipynb Cell 4'\u001b[0m in \u001b[0;36m<cell line: 3>\u001b[0;34m()\u001b[0m\n\u001b[1;32m      <a href='vscode-notebook-cell:/home/abdulaziz/FYP/Scraper/Twitter_login%20_bot.ipynb#ch0000015?line=0'>1</a>\u001b[0m \u001b[39m# To run the bot on opera browser\u001b[39;00m\n\u001b[0;32m----> <a href='vscode-notebook-cell:/home/abdulaziz/FYP/Scraper/Twitter_login%20_bot.ipynb#ch0000015?line=2'>3</a>\u001b[0m browser \u001b[39m=\u001b[39m webdriver\u001b[39m.\u001b[39;49mOpera(executable_path\u001b[39m=\u001b[39;49m\u001b[39mr\u001b[39;49m\u001b[39m\"\u001b[39;49m\u001b[39m/home/abdulaziz/FYP/Scraper/chromedriver_linux64/chromedriver\u001b[39;49m\u001b[39m\"\u001b[39;49m)\n",
      "File \u001b[0;32m~/.local/lib/python3.8/site-packages/selenium/webdriver/opera/webdriver.py:70\u001b[0m, in \u001b[0;36mWebDriver.__init__\u001b[0;34m(self, desired_capabilities, executable_path, port, service_log_path, service_args, options)\u001b[0m\n\u001b[1;32m     <a href='file:///home/abdulaziz/.local/lib/python3.8/site-packages/selenium/webdriver/opera/webdriver.py?line=62'>63</a>\u001b[0m \u001b[39mdef\u001b[39;00m \u001b[39m__init__\u001b[39m(\u001b[39mself\u001b[39m,\n\u001b[1;32m     <a href='file:///home/abdulaziz/.local/lib/python3.8/site-packages/selenium/webdriver/opera/webdriver.py?line=63'>64</a>\u001b[0m              desired_capabilities\u001b[39m=\u001b[39m\u001b[39mNone\u001b[39;00m,\n\u001b[1;32m     <a href='file:///home/abdulaziz/.local/lib/python3.8/site-packages/selenium/webdriver/opera/webdriver.py?line=64'>65</a>\u001b[0m              executable_path\u001b[39m=\u001b[39m\u001b[39mNone\u001b[39;00m,\n\u001b[0;32m   (...)\u001b[0m\n\u001b[1;32m     <a href='file:///home/abdulaziz/.local/lib/python3.8/site-packages/selenium/webdriver/opera/webdriver.py?line=67'>68</a>\u001b[0m              service_args\u001b[39m=\u001b[39m\u001b[39mNone\u001b[39;00m,\n\u001b[1;32m     <a href='file:///home/abdulaziz/.local/lib/python3.8/site-packages/selenium/webdriver/opera/webdriver.py?line=68'>69</a>\u001b[0m              options\u001b[39m=\u001b[39m\u001b[39mNone\u001b[39;00m):\n\u001b[0;32m---> <a href='file:///home/abdulaziz/.local/lib/python3.8/site-packages/selenium/webdriver/opera/webdriver.py?line=69'>70</a>\u001b[0m     OperaDriver\u001b[39m.\u001b[39;49m\u001b[39m__init__\u001b[39;49m(\u001b[39mself\u001b[39;49m, executable_path\u001b[39m=\u001b[39;49mexecutable_path,\n\u001b[1;32m     <a href='file:///home/abdulaziz/.local/lib/python3.8/site-packages/selenium/webdriver/opera/webdriver.py?line=70'>71</a>\u001b[0m                          port\u001b[39m=\u001b[39;49mport, options\u001b[39m=\u001b[39;49moptions,\n\u001b[1;32m     <a href='file:///home/abdulaziz/.local/lib/python3.8/site-packages/selenium/webdriver/opera/webdriver.py?line=71'>72</a>\u001b[0m                          service_args\u001b[39m=\u001b[39;49mservice_args,\n\u001b[1;32m     <a href='file:///home/abdulaziz/.local/lib/python3.8/site-packages/selenium/webdriver/opera/webdriver.py?line=72'>73</a>\u001b[0m                          desired_capabilities\u001b[39m=\u001b[39;49mdesired_capabilities,\n\u001b[1;32m     <a href='file:///home/abdulaziz/.local/lib/python3.8/site-packages/selenium/webdriver/opera/webdriver.py?line=73'>74</a>\u001b[0m                          service_log_path\u001b[39m=\u001b[39;49mservice_log_path)\n",
      "File \u001b[0;32m~/.local/lib/python3.8/site-packages/selenium/webdriver/opera/webdriver.py:46\u001b[0m, in \u001b[0;36mOperaDriver.__init__\u001b[0;34m(self, executable_path, port, options, service_args, desired_capabilities, service_log_path, opera_options, keep_alive)\u001b[0m\n\u001b[1;32m     <a href='file:///home/abdulaziz/.local/lib/python3.8/site-packages/selenium/webdriver/opera/webdriver.py?line=28'>29</a>\u001b[0m \u001b[39m\"\"\"\u001b[39;00m\n\u001b[1;32m     <a href='file:///home/abdulaziz/.local/lib/python3.8/site-packages/selenium/webdriver/opera/webdriver.py?line=29'>30</a>\u001b[0m \u001b[39mCreates a new instance of the operadriver.\u001b[39;00m\n\u001b[1;32m     <a href='file:///home/abdulaziz/.local/lib/python3.8/site-packages/selenium/webdriver/opera/webdriver.py?line=30'>31</a>\u001b[0m \n\u001b[0;32m   (...)\u001b[0m\n\u001b[1;32m     <a href='file:///home/abdulaziz/.local/lib/python3.8/site-packages/selenium/webdriver/opera/webdriver.py?line=42'>43</a>\u001b[0m \u001b[39m   capabilities only, such as \"proxy\" or \"loggingPref\".\u001b[39;00m\n\u001b[1;32m     <a href='file:///home/abdulaziz/.local/lib/python3.8/site-packages/selenium/webdriver/opera/webdriver.py?line=43'>44</a>\u001b[0m \u001b[39m\"\"\"\u001b[39;00m\n\u001b[1;32m     <a href='file:///home/abdulaziz/.local/lib/python3.8/site-packages/selenium/webdriver/opera/webdriver.py?line=44'>45</a>\u001b[0m executable_path \u001b[39m=\u001b[39m (executable_path \u001b[39mif\u001b[39;00m executable_path \u001b[39melse\u001b[39;00m \u001b[39m\"\u001b[39m\u001b[39moperadriver\u001b[39m\u001b[39m\"\u001b[39m)\n\u001b[0;32m---> <a href='file:///home/abdulaziz/.local/lib/python3.8/site-packages/selenium/webdriver/opera/webdriver.py?line=45'>46</a>\u001b[0m ChromiumDriver\u001b[39m.\u001b[39;49m\u001b[39m__init__\u001b[39;49m(\u001b[39mself\u001b[39;49m,\n\u001b[1;32m     <a href='file:///home/abdulaziz/.local/lib/python3.8/site-packages/selenium/webdriver/opera/webdriver.py?line=46'>47</a>\u001b[0m                         executable_path\u001b[39m=\u001b[39;49mexecutable_path,\n\u001b[1;32m     <a href='file:///home/abdulaziz/.local/lib/python3.8/site-packages/selenium/webdriver/opera/webdriver.py?line=47'>48</a>\u001b[0m                         port\u001b[39m=\u001b[39;49mport,\n\u001b[1;32m     <a href='file:///home/abdulaziz/.local/lib/python3.8/site-packages/selenium/webdriver/opera/webdriver.py?line=48'>49</a>\u001b[0m                         options\u001b[39m=\u001b[39;49moptions,\n\u001b[1;32m     <a href='file:///home/abdulaziz/.local/lib/python3.8/site-packages/selenium/webdriver/opera/webdriver.py?line=49'>50</a>\u001b[0m                         service_args\u001b[39m=\u001b[39;49mservice_args,\n\u001b[1;32m     <a href='file:///home/abdulaziz/.local/lib/python3.8/site-packages/selenium/webdriver/opera/webdriver.py?line=50'>51</a>\u001b[0m                         desired_capabilities\u001b[39m=\u001b[39;49mdesired_capabilities,\n\u001b[1;32m     <a href='file:///home/abdulaziz/.local/lib/python3.8/site-packages/selenium/webdriver/opera/webdriver.py?line=51'>52</a>\u001b[0m                         service_log_path\u001b[39m=\u001b[39;49mservice_log_path,\n\u001b[1;32m     <a href='file:///home/abdulaziz/.local/lib/python3.8/site-packages/selenium/webdriver/opera/webdriver.py?line=52'>53</a>\u001b[0m                         keep_alive\u001b[39m=\u001b[39;49mkeep_alive)\n",
      "File \u001b[0;32m~/.local/lib/python3.8/site-packages/selenium/webdriver/chrome/webdriver.py:70\u001b[0m, in \u001b[0;36mWebDriver.__init__\u001b[0;34m(self, executable_path, port, options, service_args, desired_capabilities, service_log_path, chrome_options, service, keep_alive)\u001b[0m\n\u001b[1;32m     <a href='file:///home/abdulaziz/.local/lib/python3.8/site-packages/selenium/webdriver/chrome/webdriver.py?line=66'>67</a>\u001b[0m \u001b[39mif\u001b[39;00m \u001b[39mnot\u001b[39;00m service:\n\u001b[1;32m     <a href='file:///home/abdulaziz/.local/lib/python3.8/site-packages/selenium/webdriver/chrome/webdriver.py?line=67'>68</a>\u001b[0m     service \u001b[39m=\u001b[39m Service(executable_path, port, service_args, service_log_path)\n\u001b[0;32m---> <a href='file:///home/abdulaziz/.local/lib/python3.8/site-packages/selenium/webdriver/chrome/webdriver.py?line=69'>70</a>\u001b[0m \u001b[39msuper\u001b[39;49m(WebDriver, \u001b[39mself\u001b[39;49m)\u001b[39m.\u001b[39;49m\u001b[39m__init__\u001b[39;49m(DesiredCapabilities\u001b[39m.\u001b[39;49mCHROME[\u001b[39m'\u001b[39;49m\u001b[39mbrowserName\u001b[39;49m\u001b[39m'\u001b[39;49m], \u001b[39m\"\u001b[39;49m\u001b[39mgoog\u001b[39;49m\u001b[39m\"\u001b[39;49m,\n\u001b[1;32m     <a href='file:///home/abdulaziz/.local/lib/python3.8/site-packages/selenium/webdriver/chrome/webdriver.py?line=70'>71</a>\u001b[0m                                 port, options,\n\u001b[1;32m     <a href='file:///home/abdulaziz/.local/lib/python3.8/site-packages/selenium/webdriver/chrome/webdriver.py?line=71'>72</a>\u001b[0m                                 service_args, desired_capabilities,\n\u001b[1;32m     <a href='file:///home/abdulaziz/.local/lib/python3.8/site-packages/selenium/webdriver/chrome/webdriver.py?line=72'>73</a>\u001b[0m                                 service_log_path, service, keep_alive)\n",
      "File \u001b[0;32m~/.local/lib/python3.8/site-packages/selenium/webdriver/chromium/webdriver.py:90\u001b[0m, in \u001b[0;36mChromiumDriver.__init__\u001b[0;34m(self, browser_name, vendor_prefix, port, options, service_args, desired_capabilities, service_log_path, service, keep_alive)\u001b[0m\n\u001b[1;32m     <a href='file:///home/abdulaziz/.local/lib/python3.8/site-packages/selenium/webdriver/chromium/webdriver.py?line=86'>87</a>\u001b[0m     \u001b[39mraise\u001b[39;00m \u001b[39mAttributeError\u001b[39;00m(\u001b[39m'\u001b[39m\u001b[39mservice cannot be None\u001b[39m\u001b[39m'\u001b[39m)\n\u001b[1;32m     <a href='file:///home/abdulaziz/.local/lib/python3.8/site-packages/selenium/webdriver/chromium/webdriver.py?line=88'>89</a>\u001b[0m \u001b[39mself\u001b[39m\u001b[39m.\u001b[39mservice \u001b[39m=\u001b[39m service\n\u001b[0;32m---> <a href='file:///home/abdulaziz/.local/lib/python3.8/site-packages/selenium/webdriver/chromium/webdriver.py?line=89'>90</a>\u001b[0m \u001b[39mself\u001b[39;49m\u001b[39m.\u001b[39;49mservice\u001b[39m.\u001b[39;49mstart()\n\u001b[1;32m     <a href='file:///home/abdulaziz/.local/lib/python3.8/site-packages/selenium/webdriver/chromium/webdriver.py?line=91'>92</a>\u001b[0m \u001b[39mtry\u001b[39;00m:\n\u001b[1;32m     <a href='file:///home/abdulaziz/.local/lib/python3.8/site-packages/selenium/webdriver/chromium/webdriver.py?line=92'>93</a>\u001b[0m     RemoteWebDriver\u001b[39m.\u001b[39m\u001b[39m__init__\u001b[39m(\n\u001b[1;32m     <a href='file:///home/abdulaziz/.local/lib/python3.8/site-packages/selenium/webdriver/chromium/webdriver.py?line=93'>94</a>\u001b[0m         \u001b[39mself\u001b[39m,\n\u001b[1;32m     <a href='file:///home/abdulaziz/.local/lib/python3.8/site-packages/selenium/webdriver/chromium/webdriver.py?line=94'>95</a>\u001b[0m         command_executor\u001b[39m=\u001b[39mChromiumRemoteConnection(\n\u001b[0;32m   (...)\u001b[0m\n\u001b[1;32m     <a href='file:///home/abdulaziz/.local/lib/python3.8/site-packages/selenium/webdriver/chromium/webdriver.py?line=97'>98</a>\u001b[0m             keep_alive\u001b[39m=\u001b[39mkeep_alive, ignore_proxy\u001b[39m=\u001b[39m_ignore_proxy),\n\u001b[1;32m     <a href='file:///home/abdulaziz/.local/lib/python3.8/site-packages/selenium/webdriver/chromium/webdriver.py?line=98'>99</a>\u001b[0m         options\u001b[39m=\u001b[39moptions)\n",
      "File \u001b[0;32m~/.local/lib/python3.8/site-packages/selenium/webdriver/common/service.py:86\u001b[0m, in \u001b[0;36mService.start\u001b[0;34m(self)\u001b[0m\n\u001b[1;32m     <a href='file:///home/abdulaziz/.local/lib/python3.8/site-packages/selenium/webdriver/common/service.py?line=80'>81</a>\u001b[0m     \u001b[39mraise\u001b[39;00m WebDriverException(\n\u001b[1;32m     <a href='file:///home/abdulaziz/.local/lib/python3.8/site-packages/selenium/webdriver/common/service.py?line=81'>82</a>\u001b[0m         \u001b[39m\"\u001b[39m\u001b[39m'\u001b[39m\u001b[39m%s\u001b[39;00m\u001b[39m'\u001b[39m\u001b[39m executable needs to be in PATH. \u001b[39m\u001b[39m%s\u001b[39;00m\u001b[39m\"\u001b[39m \u001b[39m%\u001b[39m (\n\u001b[1;32m     <a href='file:///home/abdulaziz/.local/lib/python3.8/site-packages/selenium/webdriver/common/service.py?line=82'>83</a>\u001b[0m             os\u001b[39m.\u001b[39mpath\u001b[39m.\u001b[39mbasename(\u001b[39mself\u001b[39m\u001b[39m.\u001b[39mpath), \u001b[39mself\u001b[39m\u001b[39m.\u001b[39mstart_error_message)\n\u001b[1;32m     <a href='file:///home/abdulaziz/.local/lib/python3.8/site-packages/selenium/webdriver/common/service.py?line=83'>84</a>\u001b[0m     )\n\u001b[1;32m     <a href='file:///home/abdulaziz/.local/lib/python3.8/site-packages/selenium/webdriver/common/service.py?line=84'>85</a>\u001b[0m \u001b[39melif\u001b[39;00m err\u001b[39m.\u001b[39merrno \u001b[39m==\u001b[39m errno\u001b[39m.\u001b[39mEACCES:\n\u001b[0;32m---> <a href='file:///home/abdulaziz/.local/lib/python3.8/site-packages/selenium/webdriver/common/service.py?line=85'>86</a>\u001b[0m     \u001b[39mraise\u001b[39;00m WebDriverException(\n\u001b[1;32m     <a href='file:///home/abdulaziz/.local/lib/python3.8/site-packages/selenium/webdriver/common/service.py?line=86'>87</a>\u001b[0m         \u001b[39m\"\u001b[39m\u001b[39m'\u001b[39m\u001b[39m%s\u001b[39;00m\u001b[39m'\u001b[39m\u001b[39m executable may have wrong permissions. \u001b[39m\u001b[39m%s\u001b[39;00m\u001b[39m\"\u001b[39m \u001b[39m%\u001b[39m (\n\u001b[1;32m     <a href='file:///home/abdulaziz/.local/lib/python3.8/site-packages/selenium/webdriver/common/service.py?line=87'>88</a>\u001b[0m             os\u001b[39m.\u001b[39mpath\u001b[39m.\u001b[39mbasename(\u001b[39mself\u001b[39m\u001b[39m.\u001b[39mpath), \u001b[39mself\u001b[39m\u001b[39m.\u001b[39mstart_error_message)\n\u001b[1;32m     <a href='file:///home/abdulaziz/.local/lib/python3.8/site-packages/selenium/webdriver/common/service.py?line=88'>89</a>\u001b[0m     )\n\u001b[1;32m     <a href='file:///home/abdulaziz/.local/lib/python3.8/site-packages/selenium/webdriver/common/service.py?line=89'>90</a>\u001b[0m \u001b[39melse\u001b[39;00m:\n\u001b[1;32m     <a href='file:///home/abdulaziz/.local/lib/python3.8/site-packages/selenium/webdriver/common/service.py?line=90'>91</a>\u001b[0m     \u001b[39mraise\u001b[39;00m\n",
      "\u001b[0;31mWebDriverException\u001b[0m: Message: 'chromedriver' executable may have wrong permissions. Please see https://chromedriver.chromium.org/home\n"
     ]
    }
   ],
   "source": [
    "# To run the bot on opera browser\n",
    "\n",
    "browser = webdriver.Opera(executable_path=r\"/home/abdulaziz/FYP/Scraper/chromedriver_linux64/chromedriver\")"
   ]
  },
  {
   "cell_type": "code",
   "execution_count": 5,
   "metadata": {},
   "outputs": [],
   "source": [
    "browser.get('https://www.twitter.com/login')"
   ]
  },
  {
   "cell_type": "code",
   "execution_count": 6,
   "metadata": {},
   "outputs": [
    {
     "name": "stderr",
     "output_type": "stream",
     "text": [
      "<ipython-input-6-c2a067b5553f>:1: DeprecationWarning: find_element_by_* commands are deprecated. Please use find_element() instead\n",
      "  username = browser.find_element_by_xpath('//input[@name=\"text\"]')\n"
     ]
    }
   ],
   "source": [
    "username = browser.find_element_by_xpath('//input[@name=\"text\"]')\n",
    "username.send_keys('SuicidalPastaa')\n",
    "username.send_keys(Keys.RETURN)"
   ]
  },
  {
   "cell_type": "code",
   "execution_count": 30,
   "metadata": {},
   "outputs": [],
   "source": [
    "# name = browser.find_element_by_xpath('//input[@name=\"text\"]')\n",
    "# name.send_keys('MirzaAbdulAzi11')\n",
    "# name.send_keys(Keys.RETURN)"
   ]
  },
  {
   "cell_type": "code",
   "execution_count": 7,
   "metadata": {},
   "outputs": [],
   "source": [
    "my_password = ''"
   ]
  },
  {
   "cell_type": "code",
   "execution_count": 8,
   "metadata": {},
   "outputs": [
    {
     "name": "stderr",
     "output_type": "stream",
     "text": [
      "<ipython-input-8-a1233131a063>:1: DeprecationWarning: find_element_by_* commands are deprecated. Please use find_element() instead\n",
      "  password = browser.find_element_by_xpath('//input[@name=\"password\"]')\n"
     ]
    }
   ],
   "source": [
    "password = browser.find_element_by_xpath('//input[@name=\"password\"]')\n",
    "password.send_keys(my_password)\n",
    "password.send_keys(Keys.RETURN)"
   ]
  },
  {
   "cell_type": "code",
   "execution_count": 9,
   "metadata": {},
   "outputs": [
    {
     "name": "stderr",
     "output_type": "stream",
     "text": [
      "<ipython-input-9-fe653b8d3ba5>:1: DeprecationWarning: find_element_by_* commands are deprecated. Please use find_element() instead\n",
      "  search = browser.find_element_by_xpath('//input[@aria-label=\"Search query\"]')\n"
     ]
    }
   ],
   "source": [
    "search = browser.find_element_by_xpath('//input[@aria-label=\"Search query\"]')\n",
    "category = 'cricketer'\n",
    "search.send_keys('{} \"filter:verified\"'.format(category))\n",
    "search.send_keys(Keys.RETURN)"
   ]
  },
  {
   "cell_type": "code",
   "execution_count": 10,
   "metadata": {},
   "outputs": [
    {
     "name": "stderr",
     "output_type": "stream",
     "text": [
      "<ipython-input-10-a0585b8a6da9>:1: DeprecationWarning: find_element_by_* commands are deprecated. Please use find_element() instead\n",
      "  browser.find_element_by_link_text('People').click()\n"
     ]
    }
   ],
   "source": [
    "browser.find_element_by_link_text('People').click()"
   ]
  },
  {
   "cell_type": "code",
   "execution_count": 11,
   "metadata": {},
   "outputs": [
    {
     "name": "stderr",
     "output_type": "stream",
     "text": [
      "<ipython-input-11-7f72477cbf27>:4: DeprecationWarning: find_elements_by_* commands are deprecated. Please use find_elements() instead\n",
      "  users = browser.find_elements_by_xpath('//div[@data-testid=\"UserCell\"]')\n",
      "/home/saaim/.local/lib/python3.8/site-packages/selenium/webdriver/remote/webelement.py:393: UserWarning: find_element_by_* commands are deprecated. Please use find_element() instead\n",
      "  warnings.warn(\"find_element_by_* commands are deprecated. Please use find_element() instead\")\n"
     ]
    },
    {
     "data": {
      "text/plain": [
       "263"
      ]
     },
     "execution_count": 11,
     "metadata": {},
     "output_type": "execute_result"
    }
   ],
   "source": [
    "twitter_handles = []\n",
    "i = 0\n",
    "while i<8:\n",
    "    users = browser.find_elements_by_xpath('//div[@data-testid=\"UserCell\"]')\n",
    "    for user in users:\n",
    "        userHandle = user.find_element_by_xpath('.//span[contains(text(), \"@\")]').text\n",
    "        if userHandle not in twitter_handles:           # NOT ALLOWING ANY DUPLICATES\n",
    "            twitter_handles.append(userHandle)\n",
    "    browser.execute_script('window.scrollTo(0, document.body.scrollHeight);')\n",
    "    sleep(1)\n",
    "    i = i + 1\n",
    "len(twitter_handles)\n"
   ]
  },
  {
   "cell_type": "code",
   "execution_count": 47,
   "metadata": {},
   "outputs": [],
   "source": [
    "import pandas as pd\n",
    "path = '../Dataset/Cricketers.csv'   # PATH WHERE THE CSV FILE WILL BE STORED\n",
    "dict = {'Cricketers': twitter_handles}\n",
    "df = pd.DataFrame(dict) \n",
    "df.to_csv(path, index=False)"
   ]
  },
  {
   "cell_type": "code",
   "execution_count": 48,
   "metadata": {},
   "outputs": [
    {
     "name": "stdout",
     "output_type": "stream",
     "text": [
      "DUPLICATED VALUES ARE: \n"
     ]
    },
    {
     "data": {
      "text/html": [
       "<div>\n",
       "<style scoped>\n",
       "    .dataframe tbody tr th:only-of-type {\n",
       "        vertical-align: middle;\n",
       "    }\n",
       "\n",
       "    .dataframe tbody tr th {\n",
       "        vertical-align: top;\n",
       "    }\n",
       "\n",
       "    .dataframe thead th {\n",
       "        text-align: right;\n",
       "    }\n",
       "</style>\n",
       "<table border=\"1\" class=\"dataframe\">\n",
       "  <thead>\n",
       "    <tr style=\"text-align: right;\">\n",
       "      <th></th>\n",
       "      <th>Cricketers</th>\n",
       "    </tr>\n",
       "  </thead>\n",
       "  <tbody>\n",
       "  </tbody>\n",
       "</table>\n",
       "</div>"
      ],
      "text/plain": [
       "Empty DataFrame\n",
       "Columns: [Cricketers]\n",
       "Index: []"
      ]
     },
     "execution_count": 48,
     "metadata": {},
     "output_type": "execute_result"
    }
   ],
   "source": [
    "## THE FOLLOWING CODE CAN BE USED TO FIND IF YOUR DATA CONTAINS ANY DUPLICATE VALUES ##\n",
    "## DO CHECK YOUR DATASET BY THIS CODE EVERYTIME ##\n",
    "\n",
    "\n",
    "current_df = pd.read_csv(path, skipinitialspace=True)\n",
    "duplicates_list = []\n",
    "print(\"DUPLICATED VALUES ARE: \")\n",
    "current_df.loc[current_df.duplicated(), :]\n",
    "\n"
   ]
  },
  {
   "cell_type": "code",
   "execution_count": 46,
   "metadata": {},
   "outputs": [],
   "source": [
    "## NO NEED TO RUN THIS CELL IF NO DUPLICATES ARE FOUND ##\n",
    "## THIS CODE IS TO BE USED IF THERE ARE DUPLICATES FOUND ##\n",
    "## IT WILL REMOVE THE DUPLICATE ROWS IN THE ORIGINAL CSV ##\n",
    "\n",
    "current_df.drop_duplicates(inplace=True)\n",
    "current_df.to_csv(path, index=False)"
   ]
  },
  {
   "cell_type": "code",
   "execution_count": null,
   "metadata": {},
   "outputs": [],
   "source": []
  }
 ],
 "metadata": {
  "kernelspec": {
   "display_name": "Python 3",
   "language": "python",
   "name": "python3"
  },
  "language_info": {
   "codemirror_mode": {
    "name": "ipython",
    "version": 3
   },
   "file_extension": ".py",
   "mimetype": "text/x-python",
   "name": "python",
   "nbconvert_exporter": "python",
   "pygments_lexer": "ipython3",
   "version": "3.8.10"
  },
  "toc": {
   "base_numbering": 1,
   "nav_menu": {},
   "number_sections": true,
   "sideBar": true,
   "skip_h1_title": false,
   "title_cell": "Table of Contents",
   "title_sidebar": "Contents",
   "toc_cell": true,
   "toc_position": {},
   "toc_section_display": true,
   "toc_window_display": false
  }
 },
 "nbformat": 4,
 "nbformat_minor": 4
}
